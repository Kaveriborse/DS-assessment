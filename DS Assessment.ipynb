{
 "cells": [
  {
   "cell_type": "markdown",
   "id": "d482d77b",
   "metadata": {},
   "source": [
    "# Pyhton\n",
    "\n",
    "Q2."
   ]
  },
  {
   "cell_type": "code",
   "execution_count": 11,
   "id": "5fe02364",
   "metadata": {},
   "outputs": [],
   "source": [
    "def count_horses(stalls, min_distance):\n",
    "    count = 1  \n",
    "    last_occupied_stall = stalls[0]\n",
    "    for stall in stalls:\n",
    "        if stall - last_occupied_stall >= min_distance:\n",
    "            count += 1\n",
    "            last_occupied_stall = stall\n",
    "    return count\n",
    "\n",
    "def max_min_distance(stalls, k):\n",
    "    stalls.sort()  \n",
    "    left, right = 1, stalls[-1] - stalls[0]  # Initialize left and right pointers for binary search\n",
    "    result = -1\n",
    "\n",
    "    while left <= right:\n",
    "        mid = (left + right) // 2\n",
    "        if count_horses(stalls, mid) >= k:\n",
    "            result = mid\n",
    "            left = mid + 1\n",
    "        else:\n",
    "            right = mid - 1\n",
    "\n",
    "    return result\n"
   ]
  },
  {
   "cell_type": "code",
   "execution_count": 12,
   "id": "6097ffab",
   "metadata": {},
   "outputs": [
    {
     "name": "stdout",
     "output_type": "stream",
     "text": [
      "Largest minimum distance: 3\n"
     ]
    }
   ],
   "source": [
    "stalls = [1, 2, 4, 8, 9]\n",
    "k = 3\n",
    "largest_min_distance = max_min_distance(stalls, k)\n",
    "print(\"Largest minimum distance:\", largest_min_distance)\n"
   ]
  },
  {
   "cell_type": "markdown",
   "id": "cb7ff0bf",
   "metadata": {},
   "source": [
    "**Q4.**"
   ]
  },
  {
   "cell_type": "code",
   "execution_count": 18,
   "id": "e19b3f9e",
   "metadata": {},
   "outputs": [],
   "source": [
    "def fourSum(nums, target):\n",
    "    nums.sort()\n",
    "    result = []\n",
    "    n = len(nums)\n",
    "\n",
    "    for a in range(n - 3):\n",
    "        for b in range(a + 1, n - 2):\n",
    "            for c in range(b + 1, n - 1):\n",
    "                for d in range(c + 1, n):\n",
    "                    quad_sum = nums[a] + nums[b] + nums[c] + nums[d]\n",
    "                    if quad_sum == target:\n",
    "                        result.append([nums[a], nums[b], nums[c], nums[d]])\n",
    "\n",
    "    return result"
   ]
  },
  {
   "cell_type": "code",
   "execution_count": 19,
   "id": "956b16c7",
   "metadata": {},
   "outputs": [
    {
     "name": "stdout",
     "output_type": "stream",
     "text": [
      "[[1, 2, 3, 4]]\n"
     ]
    }
   ],
   "source": [
    "nums = [1, 2, 3, 4, 5]\n",
    "target = 10\n",
    "print(fourSum(nums, target))"
   ]
  },
  {
   "cell_type": "code",
   "execution_count": null,
   "id": "99bcd3a9",
   "metadata": {},
   "outputs": [],
   "source": []
  }
 ],
 "metadata": {
  "kernelspec": {
   "display_name": "Python 3 (ipykernel)",
   "language": "python",
   "name": "python3"
  },
  "language_info": {
   "codemirror_mode": {
    "name": "ipython",
    "version": 3
   },
   "file_extension": ".py",
   "mimetype": "text/x-python",
   "name": "python",
   "nbconvert_exporter": "python",
   "pygments_lexer": "ipython3",
   "version": "3.9.7"
  }
 },
 "nbformat": 4,
 "nbformat_minor": 5
}
