def count_horses(stalls, min_distance):
    count = 1  
    last_occupied_stall = stalls[0]
    for stall in stalls:
        if stall - last_occupied_stall >= min_distance:
            count += 1
            last_occupied_stall = stall
    return count

def max_min_distance(stalls, k):
    stalls.sort()  
    left, right = 1, stalls[-1] - stalls[0]  # Initialize left and right pointers for binary search
    result = -1

    while left <= right:
        mid = (left + right) // 2
        if count_horses(stalls, mid) >= k:
            result = mid
            left = mid + 1
        else:
            right = mid - 1

    return result

stalls = [1, 2, 4, 8, 9]
k = 3
largest_min_distance = max_min_distance(stalls, k)
print("Largest minimum distance:", largest_min_distance)

#Q4
def fourSum(nums, target):
    nums.sort()
    result = []
    n = len(nums)

    for a in range(n - 3):
        for b in range(a + 1, n - 2):
            for c in range(b + 1, n - 1):
                for d in range(c + 1, n):
                    quad_sum = nums[a] + nums[b] + nums[c] + nums[d]
                    if quad_sum == target:
                        result.append([nums[a], nums[b], nums[c], nums[d]])

    return result

nums = [1, 2, 3, 4, 5]
target = 10
print(fourSum(nums, target))
